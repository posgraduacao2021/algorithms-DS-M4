{
 "metadata": {
  "language_info": {
   "codemirror_mode": {
    "name": "ipython",
    "version": 3
   },
   "file_extension": ".py",
   "mimetype": "text/x-python",
   "name": "python",
   "nbconvert_exporter": "python",
   "pygments_lexer": "ipython3",
   "version": "3.9.1"
  },
  "orig_nbformat": 2,
  "kernelspec": {
   "name": "python391jvsc74a57bd063fd5069d213b44bf678585dea6b12cceca9941eaf7f819626cde1f2670de90d",
   "display_name": "Python 3.9.1 64-bit"
  },
  "metadata": {
   "interpreter": {
    "hash": "63fd5069d213b44bf678585dea6b12cceca9941eaf7f819626cde1f2670de90d"
   }
  }
 },
 "nbformat": 4,
 "nbformat_minor": 2,
 "cells": [
  {
   "cell_type": "code",
   "execution_count": 2,
   "metadata": {},
   "outputs": [
    {
     "output_type": "execute_result",
     "data": {
      "text/plain": [
       "   01/01/2016;35.113.515     74;20.379  32;35.093.136  42\n",
       "0  01/02/2016;40.232.776    90;725.443  91;39.507.332  99\n",
       "1  01/03/2016;57.406.348  95;1.394.981  35;56.011.367  60\n",
       "2  01/04/2016;49.358.343     85;28.330  07;49.330.013  78\n",
       "3  01/05/2016;64.403.168  94;1.400.326  15;63.002.842  79\n",
       "4  01/06/2016;35.236.360     60;28.330  07;35.208.030  53"
      ],
      "text/html": "<div>\n<style scoped>\n    .dataframe tbody tr th:only-of-type {\n        vertical-align: middle;\n    }\n\n    .dataframe tbody tr th {\n        vertical-align: top;\n    }\n\n    .dataframe thead th {\n        text-align: right;\n    }\n</style>\n<table border=\"1\" class=\"dataframe\">\n  <thead>\n    <tr style=\"text-align: right;\">\n      <th></th>\n      <th>01/01/2016;35.113.515</th>\n      <th>74;20.379</th>\n      <th>32;35.093.136</th>\n      <th>42</th>\n    </tr>\n  </thead>\n  <tbody>\n    <tr>\n      <th>0</th>\n      <td>01/02/2016;40.232.776</td>\n      <td>90;725.443</td>\n      <td>91;39.507.332</td>\n      <td>99</td>\n    </tr>\n    <tr>\n      <th>1</th>\n      <td>01/03/2016;57.406.348</td>\n      <td>95;1.394.981</td>\n      <td>35;56.011.367</td>\n      <td>60</td>\n    </tr>\n    <tr>\n      <th>2</th>\n      <td>01/04/2016;49.358.343</td>\n      <td>85;28.330</td>\n      <td>07;49.330.013</td>\n      <td>78</td>\n    </tr>\n    <tr>\n      <th>3</th>\n      <td>01/05/2016;64.403.168</td>\n      <td>94;1.400.326</td>\n      <td>15;63.002.842</td>\n      <td>79</td>\n    </tr>\n    <tr>\n      <th>4</th>\n      <td>01/06/2016;35.236.360</td>\n      <td>60;28.330</td>\n      <td>07;35.208.030</td>\n      <td>53</td>\n    </tr>\n  </tbody>\n</table>\n</div>"
     },
     "metadata": {},
     "execution_count": 2
    }
   ],
   "source": [
    "import pandas as pd\n",
    "import numpy as np\n",
    "import seaborn as sns\n",
    "import matplotlib.pyplot as plt\n",
    "#%matplotlib inline\n",
    "\n",
    "sns.set()\n",
    "\n",
    "data = pd.read_csv(r\"C:\\Repository\\Data\\Consolidado_mensal_5_anos.csv\")\n",
    "data.head()\n"
   ]
  },
  {
   "cell_type": "code",
   "execution_count": null,
   "metadata": {},
   "outputs": [],
   "source": []
  }
 ]
}